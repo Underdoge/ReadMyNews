{
 "cells": [
  {
   "cell_type": "markdown",
   "metadata": {},
   "source": [
    "## Read My News\n",
    "\n",
    "We will begin by downloading the \"MIND-small\" version of the \"MIND\" training dataset from [here](https://mind201910small.blob.core.windows.net/release/MINDsmall_train.zip). We will save it into our \"data\" folder, and then uncompress its contents."
   ]
  },
  {
   "cell_type": "code",
   "execution_count": 27,
   "metadata": {},
   "outputs": [],
   "source": [
    "import requests\n",
    "from zipfile import ZipFile\n",
    "\n",
    "\n",
    "url = \"https://mind201910small.blob.core.windows.net/release/MINDsmall_train.zip\"\n",
    "response = requests.get(url, allow_redirects=True)\n",
    "open(\"..\\\\data\\\\MINDsmall_train.zip\", 'wb').write(response.content)\n",
    "with ZipFile(\"..\\\\data\\\\MINDsmall_train.zip\", \"r\") as zip_file:\n",
    "    zip_file.extractall(\"..\\\\data\\\\MINDsmall_train\")"
   ]
  },
  {
   "cell_type": "markdown",
   "metadata": {},
   "source": [
    "Now let's load the news articles dataset into a Polars lazy dataframe so we can explore them.\n",
    "\n",
    "We will use the \"\\t\" separator to load the file since it is separated by tabs."
   ]
  },
  {
   "cell_type": "code",
   "execution_count": 4,
   "metadata": {},
   "outputs": [
    {
     "data": {
      "text/html": [
       "<div><style>\n",
       ".dataframe > thead > tr,\n",
       ".dataframe > tbody > tr {\n",
       "  text-align: right;\n",
       "  white-space: pre-wrap;\n",
       "}\n",
       "</style>\n",
       "<small>shape: (51_003, 8)</small><table border=\"1\" class=\"dataframe\"><thead><tr><th>news_id</th><th>category</th><th>subcategory</th><th>title</th><th>abstract</th><th>url</th><th>title_entities</th><th>abstract_entities</th></tr><tr><td>str</td><td>str</td><td>str</td><td>str</td><td>str</td><td>str</td><td>str</td><td>str</td></tr></thead><tbody><tr><td>&quot;N55528&quot;</td><td>&quot;lifestyle&quot;</td><td>&quot;lifestyleroyals&quot;</td><td>&quot;The Brands Queen Elizabeth, Pr…</td><td>&quot;Shop the notebooks, jackets, a…</td><td>&quot;https://assets.msn.com/labs/mi…</td><td>&quot;[{&quot;Label&quot;: &quot;Prince Philip, Duk…</td><td>&quot;[]&quot;</td></tr><tr><td>&quot;N19639&quot;</td><td>&quot;health&quot;</td><td>&quot;weightloss&quot;</td><td>&quot;50 Worst Habits For Belly Fat&quot;</td><td>&quot;These seemingly harmless habit…</td><td>&quot;https://assets.msn.com/labs/mi…</td><td>&quot;[{&quot;Label&quot;: &quot;Adipose tissue&quot;, &quot;…</td><td>&quot;[{&quot;Label&quot;: &quot;Adipose tissue&quot;, &quot;…</td></tr><tr><td>&quot;N61837&quot;</td><td>&quot;news&quot;</td><td>&quot;newsworld&quot;</td><td>&quot;The Cost of Trump&#x27;s Aid Freeze…</td><td>&quot;Lt. Ivan Molchanets peeked ove…</td><td>&quot;https://assets.msn.com/labs/mi…</td><td>&quot;[]&quot;</td><td>&quot;[{&quot;Label&quot;: &quot;Ukraine&quot;, &quot;Type&quot;: …</td></tr><tr><td>&quot;N53526&quot;</td><td>&quot;health&quot;</td><td>&quot;voices&quot;</td><td>&quot;I Was An NBA Wife. Here&#x27;s How …</td><td>&quot;I felt like I was a fraud, and…</td><td>&quot;https://assets.msn.com/labs/mi…</td><td>&quot;[]&quot;</td><td>&quot;[{&quot;Label&quot;: &quot;National Basketbal…</td></tr><tr><td>&quot;N38324&quot;</td><td>&quot;health&quot;</td><td>&quot;medical&quot;</td><td>&quot;How to Get Rid of Skin Tags, A…</td><td>&quot;They seem harmless, but there&#x27;…</td><td>&quot;https://assets.msn.com/labs/mi…</td><td>&quot;[{&quot;Label&quot;: &quot;Skin tag&quot;, &quot;Type&quot;:…</td><td>&quot;[{&quot;Label&quot;: &quot;Skin tag&quot;, &quot;Type&quot;:…</td></tr><tr><td>&hellip;</td><td>&hellip;</td><td>&hellip;</td><td>&hellip;</td><td>&hellip;</td><td>&hellip;</td><td>&hellip;</td><td>&hellip;</td></tr><tr><td>&quot;N16909&quot;</td><td>&quot;weather&quot;</td><td>&quot;weathertopstories&quot;</td><td>&quot;Adapting, Learning And Soul Se…</td><td>&quot;Woolsey Fire Anniversary: A co…</td><td>&quot;https://assets.msn.com/labs/mi…</td><td>&quot;[{&quot;Label&quot;: &quot;Woolsey Fire&quot;, &quot;Ty…</td><td>&quot;[{&quot;Label&quot;: &quot;Woolsey Fire&quot;, &quot;Ty…</td></tr><tr><td>&quot;N47585&quot;</td><td>&quot;lifestyle&quot;</td><td>&quot;lifestylefamily&quot;</td><td>&quot;Family says 13-year-old Broadw…</td><td>null</td><td>&quot;https://assets.msn.com/labs/mi…</td><td>&quot;[{&quot;Label&quot;: &quot;Broadway theatre&quot;,…</td><td>&quot;[]&quot;</td></tr><tr><td>&quot;N7482&quot;</td><td>&quot;sports&quot;</td><td>&quot;more_sports&quot;</td><td>&quot;St. Dominic soccer player trie…</td><td>&quot;Sometimes, what happens on the…</td><td>&quot;https://assets.msn.com/labs/mi…</td><td>&quot;[]&quot;</td><td>&quot;[]&quot;</td></tr><tr><td>&quot;N34418&quot;</td><td>&quot;sports&quot;</td><td>&quot;soccer_epl&quot;</td><td>&quot;How the Sounders won MLS Cup&quot;</td><td>&quot;Mark, Jeremiah and Casey were …</td><td>&quot;https://assets.msn.com/labs/mi…</td><td>&quot;[{&quot;Label&quot;: &quot;MLS Cup&quot;, &quot;Type&quot;: …</td><td>&quot;[]&quot;</td></tr><tr><td>&quot;N44276&quot;</td><td>&quot;autos&quot;</td><td>&quot;autossports&quot;</td><td>&quot;Best Sports Car Deals for Octo…</td><td>null</td><td>&quot;https://assets.msn.com/labs/mi…</td><td>&quot;[{&quot;Label&quot;: &quot;Peugeot RCZ&quot;, &quot;Typ…</td><td>&quot;[]&quot;</td></tr></tbody></table></div>"
      ],
      "text/plain": [
       "shape: (51_003, 8)\n",
       "┌─────────┬───────────┬────────────┬────────────┬────────────┬────────────┬────────────┬───────────┐\n",
       "│ news_id ┆ category  ┆ subcategor ┆ title      ┆ abstract   ┆ url        ┆ title_enti ┆ abstract_ │\n",
       "│ ---     ┆ ---       ┆ y          ┆ ---        ┆ ---        ┆ ---        ┆ ties       ┆ entities  │\n",
       "│ str     ┆ str       ┆ ---        ┆ str        ┆ str        ┆ str        ┆ ---        ┆ ---       │\n",
       "│         ┆           ┆ str        ┆            ┆            ┆            ┆ str        ┆ str       │\n",
       "╞═════════╪═══════════╪════════════╪════════════╪════════════╪════════════╪════════════╪═══════════╡\n",
       "│ N55528  ┆ lifestyle ┆ lifestyler ┆ The Brands ┆ Shop the   ┆ https://as ┆ [{\"Label\": ┆ []        │\n",
       "│         ┆           ┆ oyals      ┆ Queen      ┆ notebooks, ┆ sets.msn.c ┆ \"Prince    ┆           │\n",
       "│         ┆           ┆            ┆ Elizabeth, ┆ jackets,   ┆ om/labs/mi ┆ Philip,    ┆           │\n",
       "│         ┆           ┆            ┆ Pr…        ┆ a…         ┆ …          ┆ Duk…       ┆           │\n",
       "│ N19639  ┆ health    ┆ weightloss ┆ 50 Worst   ┆ These      ┆ https://as ┆ [{\"Label\": ┆ [{\"Label\" │\n",
       "│         ┆           ┆            ┆ Habits For ┆ seemingly  ┆ sets.msn.c ┆ \"Adipose   ┆ :         │\n",
       "│         ┆           ┆            ┆ Belly Fat  ┆ harmless   ┆ om/labs/mi ┆ tissue\",   ┆ \"Adipose  │\n",
       "│         ┆           ┆            ┆            ┆ habit…     ┆ …          ┆ \"…         ┆ tissue\",  │\n",
       "│         ┆           ┆            ┆            ┆            ┆            ┆            ┆ \"…        │\n",
       "│ N61837  ┆ news      ┆ newsworld  ┆ The Cost   ┆ Lt. Ivan   ┆ https://as ┆ []         ┆ [{\"Label\" │\n",
       "│         ┆           ┆            ┆ of Trump's ┆ Molchanets ┆ sets.msn.c ┆            ┆ : \"Ukrain │\n",
       "│         ┆           ┆            ┆ Aid        ┆ peeked     ┆ om/labs/mi ┆            ┆ e\",       │\n",
       "│         ┆           ┆            ┆ Freeze…    ┆ ove…       ┆ …          ┆            ┆ \"Type\": … │\n",
       "│ N53526  ┆ health    ┆ voices     ┆ I Was An   ┆ I felt     ┆ https://as ┆ []         ┆ [{\"Label\" │\n",
       "│         ┆           ┆            ┆ NBA Wife.  ┆ like I was ┆ sets.msn.c ┆            ┆ :         │\n",
       "│         ┆           ┆            ┆ Here's How ┆ a fraud,   ┆ om/labs/mi ┆            ┆ \"National │\n",
       "│         ┆           ┆            ┆ …          ┆ and…       ┆ …          ┆            ┆ Basketbal │\n",
       "│         ┆           ┆            ┆            ┆            ┆            ┆            ┆ …         │\n",
       "│ N38324  ┆ health    ┆ medical    ┆ How to Get ┆ They seem  ┆ https://as ┆ [{\"Label\": ┆ [{\"Label\" │\n",
       "│         ┆           ┆            ┆ Rid of     ┆ harmless,  ┆ sets.msn.c ┆ \"Skin      ┆ : \"Skin   │\n",
       "│         ┆           ┆            ┆ Skin Tags, ┆ but        ┆ om/labs/mi ┆ tag\",      ┆ tag\",     │\n",
       "│         ┆           ┆            ┆ A…         ┆ there'…    ┆ …          ┆ \"Type\":…   ┆ \"Type\":…  │\n",
       "│ …       ┆ …         ┆ …          ┆ …          ┆ …          ┆ …          ┆ …          ┆ …         │\n",
       "│ N16909  ┆ weather   ┆ weathertop ┆ Adapting,  ┆ Woolsey    ┆ https://as ┆ [{\"Label\": ┆ [{\"Label\" │\n",
       "│         ┆           ┆ stories    ┆ Learning   ┆ Fire Anniv ┆ sets.msn.c ┆ \"Woolsey   ┆ :         │\n",
       "│         ┆           ┆            ┆ And Soul   ┆ ersary: A  ┆ om/labs/mi ┆ Fire\",     ┆ \"Woolsey  │\n",
       "│         ┆           ┆            ┆ Se…        ┆ co…        ┆ …          ┆ \"Ty…       ┆ Fire\",    │\n",
       "│         ┆           ┆            ┆            ┆            ┆            ┆            ┆ \"Ty…      │\n",
       "│ N47585  ┆ lifestyle ┆ lifestylef ┆ Family     ┆ null       ┆ https://as ┆ [{\"Label\": ┆ []        │\n",
       "│         ┆           ┆ amily      ┆ says 13-ye ┆            ┆ sets.msn.c ┆ \"Broadway  ┆           │\n",
       "│         ┆           ┆            ┆ ar-old     ┆            ┆ om/labs/mi ┆ theatre\",… ┆           │\n",
       "│         ┆           ┆            ┆ Broadw…    ┆            ┆ …          ┆            ┆           │\n",
       "│ N7482   ┆ sports    ┆ more_sport ┆ St.        ┆ Sometimes, ┆ https://as ┆ []         ┆ []        │\n",
       "│         ┆           ┆ s          ┆ Dominic    ┆ what       ┆ sets.msn.c ┆            ┆           │\n",
       "│         ┆           ┆            ┆ soccer     ┆ happens on ┆ om/labs/mi ┆            ┆           │\n",
       "│         ┆           ┆            ┆ player     ┆ the…       ┆ …          ┆            ┆           │\n",
       "│         ┆           ┆            ┆ trie…      ┆            ┆            ┆            ┆           │\n",
       "│ N34418  ┆ sports    ┆ soccer_epl ┆ How the    ┆ Mark,      ┆ https://as ┆ [{\"Label\": ┆ []        │\n",
       "│         ┆           ┆            ┆ Sounders   ┆ Jeremiah   ┆ sets.msn.c ┆ \"MLS Cup\", ┆           │\n",
       "│         ┆           ┆            ┆ won MLS    ┆ and Casey  ┆ om/labs/mi ┆ \"Type\": …  ┆           │\n",
       "│         ┆           ┆            ┆ Cup        ┆ were …     ┆ …          ┆            ┆           │\n",
       "│ N44276  ┆ autos     ┆ autossport ┆ Best       ┆ null       ┆ https://as ┆ [{\"Label\": ┆ []        │\n",
       "│         ┆           ┆ s          ┆ Sports Car ┆            ┆ sets.msn.c ┆ \"Peugeot   ┆           │\n",
       "│         ┆           ┆            ┆ Deals for  ┆            ┆ om/labs/mi ┆ RCZ\",      ┆           │\n",
       "│         ┆           ┆            ┆ Octo…      ┆            ┆ …          ┆ \"Typ…      ┆           │\n",
       "└─────────┴───────────┴────────────┴────────────┴────────────┴────────────┴────────────┴───────────┘"
      ]
     },
     "execution_count": 4,
     "metadata": {},
     "output_type": "execute_result"
    }
   ],
   "source": [
    "import polars as pl\n",
    "\n",
    "\n",
    "news_lf = pl.scan_csv(\"..\\\\data\\\\MINDsmall_train\\\\news.tsv\",\n",
    "                       separator=\"\\t\",\n",
    "                       has_header=False,\n",
    "                       schema={\"news_id\" : pl.datatypes.String,\n",
    "                               \"category\" : pl.datatypes.String,\n",
    "                               \"subcategory\" : pl.datatypes.String,\n",
    "                               \"title\" : pl.datatypes.String,\n",
    "                               \"abstract\" : pl.datatypes.String,\n",
    "                               \"url\" : pl.datatypes.String,\n",
    "                               \"title_entities\" : pl.datatypes.String,\n",
    "                               \"abstract_entities\" : pl.datatypes.String},\n",
    "                        ignore_errors=True)\n",
    "\n",
    "news_lf.collect()"
   ]
  },
  {
   "cell_type": "markdown",
   "metadata": {},
   "source": [
    "Since some news articles have no abstract, let's fill those nulls with \"No abstract\"."
   ]
  },
  {
   "cell_type": "code",
   "execution_count": 5,
   "metadata": {},
   "outputs": [],
   "source": [
    "news_lf = news_lf.with_columns(\n",
    "    pl.col(\"abstract\").fill_null(\"No abstract\")\n",
    ")"
   ]
  },
  {
   "cell_type": "markdown",
   "metadata": {},
   "source": [
    "Now let's explore the behaviors training dataset."
   ]
  },
  {
   "cell_type": "code",
   "execution_count": 6,
   "metadata": {},
   "outputs": [
    {
     "data": {
      "text/html": [
       "<div><style>\n",
       ".dataframe > thead > tr,\n",
       ".dataframe > tbody > tr {\n",
       "  text-align: right;\n",
       "  white-space: pre-wrap;\n",
       "}\n",
       "</style>\n",
       "<small>shape: (156_965, 5)</small><table border=\"1\" class=\"dataframe\"><thead><tr><th>impression_id</th><th>user_id</th><th>time</th><th>history</th><th>impressions</th></tr><tr><td>i64</td><td>str</td><td>str</td><td>str</td><td>str</td></tr></thead><tbody><tr><td>1</td><td>&quot;U13740&quot;</td><td>&quot;11/11/2019 9:05:58 AM&quot;</td><td>&quot;N55189 N42782 N34694 N45794 N1…</td><td>&quot;N55689-1 N35729-0&quot;</td></tr><tr><td>2</td><td>&quot;U91836&quot;</td><td>&quot;11/12/2019 6:11:30 PM&quot;</td><td>&quot;N31739 N6072 N63045 N23979 N35…</td><td>&quot;N20678-0 N39317-0 N58114-0 N20…</td></tr><tr><td>3</td><td>&quot;U73700&quot;</td><td>&quot;11/14/2019 7:01:48 AM&quot;</td><td>&quot;N10732 N25792 N7563 N21087 N41…</td><td>&quot;N50014-0 N23877-0 N35389-0 N49…</td></tr><tr><td>4</td><td>&quot;U34670&quot;</td><td>&quot;11/11/2019 5:28:05 AM&quot;</td><td>&quot;N45729 N2203 N871 N53880 N4137…</td><td>&quot;N35729-0 N33632-0 N49685-1 N27…</td></tr><tr><td>5</td><td>&quot;U8125&quot;</td><td>&quot;11/12/2019 4:11:21 PM&quot;</td><td>&quot;N10078 N56514 N14904 N33740&quot;</td><td>&quot;N39985-0 N36050-0 N16096-0 N84…</td></tr><tr><td>&hellip;</td><td>&hellip;</td><td>&hellip;</td><td>&hellip;</td><td>&hellip;</td></tr><tr><td>156961</td><td>&quot;U21593&quot;</td><td>&quot;11/14/2019 10:24:05 PM&quot;</td><td>&quot;N7432 N58559 N1954 N43353 N143…</td><td>&quot;N2235-0 N22975-0 N64037-0 N476…</td></tr><tr><td>156962</td><td>&quot;U10123&quot;</td><td>&quot;11/13/2019 6:57:04 AM&quot;</td><td>&quot;N9803 N104 N24462 N57318 N5574…</td><td>&quot;N3841-0 N61571-0 N58813-0 N282…</td></tr><tr><td>156963</td><td>&quot;U75630&quot;</td><td>&quot;11/14/2019 10:58:13 AM&quot;</td><td>&quot;N29898 N59704 N4408 N9803 N536…</td><td>&quot;N55913-0 N62318-0 N53515-0 N10…</td></tr><tr><td>156964</td><td>&quot;U44625&quot;</td><td>&quot;11/13/2019 2:57:02 PM&quot;</td><td>&quot;N4118 N47297 N3164 N43295 N605…</td><td>&quot;N6219-0 N3663-0 N31147-0 N5836…</td></tr><tr><td>156965</td><td>&quot;U64800&quot;</td><td>&quot;11/14/2019 3:25:49 PM&quot;</td><td>&quot;N22997 N48742&quot;</td><td>&quot;N61233-0 N33828-1 N19661-0 N41…</td></tr></tbody></table></div>"
      ],
      "text/plain": [
       "shape: (156_965, 5)\n",
       "┌───────────────┬─────────┬────────────────────────┬──────────────────────┬───────────────────┐\n",
       "│ impression_id ┆ user_id ┆ time                   ┆ history              ┆ impressions       │\n",
       "│ ---           ┆ ---     ┆ ---                    ┆ ---                  ┆ ---               │\n",
       "│ i64           ┆ str     ┆ str                    ┆ str                  ┆ str               │\n",
       "╞═══════════════╪═════════╪════════════════════════╪══════════════════════╪═══════════════════╡\n",
       "│ 1             ┆ U13740  ┆ 11/11/2019 9:05:58 AM  ┆ N55189 N42782 N34694 ┆ N55689-1 N35729-0 │\n",
       "│               ┆         ┆                        ┆ N45794 N1…           ┆                   │\n",
       "│ 2             ┆ U91836  ┆ 11/12/2019 6:11:30 PM  ┆ N31739 N6072 N63045  ┆ N20678-0 N39317-0 │\n",
       "│               ┆         ┆                        ┆ N23979 N35…          ┆ N58114-0 N20…     │\n",
       "│ 3             ┆ U73700  ┆ 11/14/2019 7:01:48 AM  ┆ N10732 N25792 N7563  ┆ N50014-0 N23877-0 │\n",
       "│               ┆         ┆                        ┆ N21087 N41…          ┆ N35389-0 N49…     │\n",
       "│ 4             ┆ U34670  ┆ 11/11/2019 5:28:05 AM  ┆ N45729 N2203 N871    ┆ N35729-0 N33632-0 │\n",
       "│               ┆         ┆                        ┆ N53880 N4137…        ┆ N49685-1 N27…     │\n",
       "│ 5             ┆ U8125   ┆ 11/12/2019 4:11:21 PM  ┆ N10078 N56514 N14904 ┆ N39985-0 N36050-0 │\n",
       "│               ┆         ┆                        ┆ N33740               ┆ N16096-0 N84…     │\n",
       "│ …             ┆ …       ┆ …                      ┆ …                    ┆ …                 │\n",
       "│ 156961        ┆ U21593  ┆ 11/14/2019 10:24:05 PM ┆ N7432 N58559 N1954   ┆ N2235-0 N22975-0  │\n",
       "│               ┆         ┆                        ┆ N43353 N143…         ┆ N64037-0 N476…    │\n",
       "│ 156962        ┆ U10123  ┆ 11/13/2019 6:57:04 AM  ┆ N9803 N104 N24462    ┆ N3841-0 N61571-0  │\n",
       "│               ┆         ┆                        ┆ N57318 N5574…        ┆ N58813-0 N282…    │\n",
       "│ 156963        ┆ U75630  ┆ 11/14/2019 10:58:13 AM ┆ N29898 N59704 N4408  ┆ N55913-0 N62318-0 │\n",
       "│               ┆         ┆                        ┆ N9803 N536…          ┆ N53515-0 N10…     │\n",
       "│ 156964        ┆ U44625  ┆ 11/13/2019 2:57:02 PM  ┆ N4118 N47297 N3164   ┆ N6219-0 N3663-0   │\n",
       "│               ┆         ┆                        ┆ N43295 N605…         ┆ N31147-0 N5836…   │\n",
       "│ 156965        ┆ U64800  ┆ 11/14/2019 3:25:49 PM  ┆ N22997 N48742        ┆ N61233-0 N33828-1 │\n",
       "│               ┆         ┆                        ┆                      ┆ N19661-0 N41…     │\n",
       "└───────────────┴─────────┴────────────────────────┴──────────────────────┴───────────────────┘"
      ]
     },
     "execution_count": 6,
     "metadata": {},
     "output_type": "execute_result"
    }
   ],
   "source": [
    "behaviors_lf = pl.scan_csv(\"..\\\\data\\\\MINDsmall_train\\\\behaviors.tsv\",\n",
    "                            separator='\\t',\n",
    "                            has_header=False,\n",
    "                            schema={\n",
    "                                \"impression_id\" : pl.datatypes.Int64,\n",
    "                                \"user_id\" : pl.datatypes.String,\n",
    "                                \"time\" : pl.datatypes.String,\n",
    "                                \"history\" : pl.datatypes.String,\n",
    "                                \"impressions\" : pl.datatypes.String\n",
    "                            },\n",
    "                            ignore_errors=True)\n",
    "\n",
    "behaviors_lf.collect()"
   ]
  },
  {
   "cell_type": "markdown",
   "metadata": {},
   "source": [
    "For now, let's ignore the fact that the third column is being stored in the dataframe as a string. If we need to later, we'll convert all of those dates into a proper Datetime data type."
   ]
  },
  {
   "cell_type": "markdown",
   "metadata": {},
   "source": [
    "Let's get all the unique news categories so we can use them for the news recommendation function."
   ]
  },
  {
   "cell_type": "code",
   "execution_count": 7,
   "metadata": {},
   "outputs": [
    {
     "data": {
      "text/plain": [
       "['sports',\n",
       " 'video',\n",
       " 'travel',\n",
       " 'tv',\n",
       " 'news',\n",
       " 'northamerica',\n",
       " 'music',\n",
       " 'finance',\n",
       " 'autos',\n",
       " 'foodanddrink',\n",
       " 'kids',\n",
       " 'health',\n",
       " 'weather',\n",
       " 'entertainment',\n",
       " 'lifestyle',\n",
       " 'movies']"
      ]
     },
     "execution_count": 7,
     "metadata": {},
     "output_type": "execute_result"
    }
   ],
   "source": [
    "categories = news_lf.select(pl.col(\"category\").unique()).collect()\n",
    "categories.to_series().to_list()"
   ]
  },
  {
   "cell_type": "markdown",
   "metadata": {},
   "source": [
    "Now, let's make a funcion to get a given number of random news articles by category.\n",
    "\n",
    "First we will define the function's JSON object for OpenAI."
   ]
  },
  {
   "cell_type": "code",
   "execution_count": 8,
   "metadata": {},
   "outputs": [],
   "source": [
    "\n",
    "NEWS_RECS_BY_CATEGORY = {\n",
    "    \"type\": \"function\",\n",
    "    \"function\": {\n",
    "        \"name\": \"get_random_news_by_category\",\n",
    "        \"description\": \"Returns the provided number of news article headlines \\\n",
    "from a given category. This function requires at least one category to work.\",\n",
    "        \"parameters\": {\n",
    "            \"type\": \"object\",\n",
    "            \"properties\": {\n",
    "                \"number\": { \"type\": \"number\"},\n",
    "                \"category\": {\n",
    "                    \"type\": \"string\",\n",
    "                    \"enum\": [\n",
    "                        'sports',\n",
    "                        'travel',\n",
    "                        'health',\n",
    "                        'news',\n",
    "                        'movies',\n",
    "                        'tv',\n",
    "                        'entertainment',\n",
    "                        'video',\n",
    "                        'lifestyle',\n",
    "                        'finance',\n",
    "                        'kids',\n",
    "                        'weather',\n",
    "                        'northamerica',\n",
    "                        'autos',\n",
    "                        'foodanddrink',\n",
    "                        'music'\n",
    "                    ]\n",
    "                }\n",
    "            },\n",
    "            \"required\": [\"number\", \"category\"],\n",
    "        },\n",
    "    },\n",
    "}\n"
   ]
  },
  {
   "cell_type": "markdown",
   "metadata": {},
   "source": [
    "Now let's create the actual function, noting that OpenAI requires the return value of functions to be in a single string, so we will concatenate all news articles' titles into a single string."
   ]
  },
  {
   "cell_type": "code",
   "execution_count": 10,
   "metadata": {},
   "outputs": [
    {
     "name": "stdout",
     "output_type": "stream",
     "text": [
      "Title: \"HISD's takeover by Texas education brass official\". Title: \"ASU fraternity brother who died on campus was brilliant student, family says\". Title: \"CNU baseball coach marries love of his life at home plate of Captains Park\"\n"
     ]
    }
   ],
   "source": [
    "import polars as pl\n",
    "\n",
    "\n",
    "def get_random_news_by_category(news_lf: pl.LazyFrame,\n",
    "                                number: int,\n",
    "                                category: str) -> str:\n",
    "    \"\"\" Retrieves random news articles by the given category, and returns\n",
    "        their title.\n",
    "\n",
    "    Args:\n",
    "        news_lf (LazyFrame): the Polars lazy DataFrame with the news articles.\n",
    "        number (int): the number of news articles by category to return.\n",
    "        category (str): the category of news articles to return.\n",
    "\n",
    "    Returns:\n",
    "        str: the title of each news article.\n",
    "    \"\"\"\n",
    "\n",
    "    news_articles = []\n",
    "\n",
    "    news_by_cat = news_lf.filter(\n",
    "        pl.col(\"category\") == category\n",
    "    ).select(\n",
    "        pl.col(\"title\")\n",
    "    ).collect().sample(n=number).rows()\n",
    "    for article in news_by_cat:\n",
    "        news_articles.append(\"Title: \\\"\" + article[0] + \"\\\"\")\n",
    "\n",
    "    return \". \".join(news_articles)\n",
    "\n",
    "\n",
    "print(get_random_news_by_category(news_lf, 3, \"lifestyle\"))"
   ]
  },
  {
   "cell_type": "markdown",
   "metadata": {},
   "source": [
    "Now let's define a function that will retrieve the article's abstract with a provided title."
   ]
  },
  {
   "cell_type": "code",
   "execution_count": null,
   "metadata": {},
   "outputs": [],
   "source": [
    "\n",
    "NEWS_ARTICLE_ABSTRACT_BY_TITLE = {\n",
    "    \"type\": \"function\",\n",
    "    \"function\": {\n",
    "        \"name\": \"get_article_abstract_by_title\",\n",
    "        \"description\": \"Retrieves the news article's abstract with the provide\\\n",
    "d title. This function requires at least one title to function correctly.\",\n",
    "        \"parameters\": {\n",
    "            \"type\": \"object\",\n",
    "            \"properties\": {\n",
    "                \"title\": { \"type\": \"string\"},\n",
    "            },\n",
    "            \"required\": [\"title\"],\n",
    "        },\n",
    "    },\n",
    "}"
   ]
  },
  {
   "cell_type": "markdown",
   "metadata": {},
   "source": [
    "Now let's create the actual function."
   ]
  },
  {
   "cell_type": "code",
   "execution_count": 11,
   "metadata": {},
   "outputs": [
    {
     "data": {
      "text/plain": [
       "'A treatment for severe peanut allergies could come in the form of an antibody injection, according to a new Stanford-led pilot study.'"
      ]
     },
     "execution_count": 11,
     "metadata": {},
     "output_type": "execute_result"
    }
   ],
   "source": [
    "def get_article_abstract_by_title(title: str) -> str:\n",
    "    \"\"\" Retrieves a news article's abstract by the given title.\n",
    "\n",
    "    Args:\n",
    "        title (str): the article's title to return.\n",
    "\n",
    "    Returns:\n",
    "        str: the news article's abstract.\n",
    "    \"\"\"\n",
    "\n",
    "    abstract = news_lf.filter(\n",
    "        pl.col(\"title\") == title\n",
    "    ).select(\n",
    "        pl.col(\"abstract\")\n",
    "    ).collect()\n",
    "\n",
    "    if len(abstract.to_series().to_list()) > 0:\n",
    "        return abstract.to_series().to_list()[0]\n",
    "    else:\n",
    "        return \"Abstract not found.\"\n",
    "\n",
    "get_article_abstract_by_title(\"Peanut allergy shots? A new Stanford-led study shows an antibody injection could prevent allergic reactions\")"
   ]
  }
 ],
 "metadata": {
  "kernelspec": {
   "display_name": ".venv",
   "language": "python",
   "name": "python3"
  },
  "language_info": {
   "codemirror_mode": {
    "name": "ipython",
    "version": 3
   },
   "file_extension": ".py",
   "mimetype": "text/x-python",
   "name": "python",
   "nbconvert_exporter": "python",
   "pygments_lexer": "ipython3",
   "version": "3.11.4"
  }
 },
 "nbformat": 4,
 "nbformat_minor": 2
}
