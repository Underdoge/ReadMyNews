{
 "cells": [
  {
   "cell_type": "markdown",
   "metadata": {},
   "source": [
    "## Read My News\n",
    "\n",
    "We will begin by downloading the \"MIND-small\" version of the \"MIND\" dataset from [here](https://mind201910small.blob.core.windows.net/release/MINDsmall_dev.zip). We will save it into our \"data\" folder, and then uncompress its contents."
   ]
  },
  {
   "cell_type": "code",
   "execution_count": 2,
   "metadata": {},
   "outputs": [],
   "source": [
    "import requests\n",
    "from zipfile import ZipFile\n",
    "import os\n",
    "\n",
    "\n",
    "if not os.path.isfile(\"../data/MINDsmall_dev/news.tsv\"):\n",
    "    url = \"https://mind201910small.blob.core.windows.net/release/MINDsmall_dev.zip\"\n",
    "    response = requests.get(url, allow_redirects=True)\n",
    "    open(\"../data/MINDsmall_dev.zip\", 'wb').write(response.content)\n",
    "    with ZipFile(\"../data/MINDsmall_dev.zip\", \"r\") as zip_file:\n",
    "        zip_file.extractall(\"../data/MINDsmall_dev\")"
   ]
  },
  {
   "cell_type": "markdown",
   "metadata": {},
   "source": [
    "Now let's load the news articles dataset into a Polars lazy dataframe so we can explore them.\n",
    "\n",
    "We will use the \"\\t\" separator to load the file since it is separated by tabs."
   ]
  },
  {
   "cell_type": "code",
   "execution_count": 4,
   "metadata": {},
   "outputs": [
    {
     "data": {
      "text/html": [
       "<div><style>\n",
       ".dataframe > thead > tr,\n",
       ".dataframe > tbody > tr {\n",
       "  text-align: right;\n",
       "  white-space: pre-wrap;\n",
       "}\n",
       "</style>\n",
       "<small>shape: (42_318, 8)</small><table border=\"1\" class=\"dataframe\"><thead><tr><th>news_id</th><th>category</th><th>subcategory</th><th>title</th><th>abstract</th><th>url</th><th>title_entities</th><th>abstract_entities</th></tr><tr><td>str</td><td>str</td><td>str</td><td>str</td><td>str</td><td>str</td><td>str</td><td>str</td></tr></thead><tbody><tr><td>&quot;N55528&quot;</td><td>&quot;lifestyle&quot;</td><td>&quot;lifestyleroyals&quot;</td><td>&quot;The Brands Queen Elizabeth, Pr…</td><td>&quot;Shop the notebooks, jackets, a…</td><td>&quot;https://assets.msn.com/labs/mi…</td><td>&quot;[{&quot;Label&quot;: &quot;Prince Philip, Duk…</td><td>&quot;[]&quot;</td></tr><tr><td>&quot;N18955&quot;</td><td>&quot;health&quot;</td><td>&quot;medical&quot;</td><td>&quot;Dispose of unwanted prescripti…</td><td>null</td><td>&quot;https://assets.msn.com/labs/mi…</td><td>&quot;[{&quot;Label&quot;: &quot;Drug Enforcement A…</td><td>&quot;[]&quot;</td></tr><tr><td>&quot;N61837&quot;</td><td>&quot;news&quot;</td><td>&quot;newsworld&quot;</td><td>&quot;The Cost of Trump&#x27;s Aid Freeze…</td><td>&quot;Lt. Ivan Molchanets peeked ove…</td><td>&quot;https://assets.msn.com/labs/mi…</td><td>&quot;[]&quot;</td><td>&quot;[{&quot;Label&quot;: &quot;Ukraine&quot;, &quot;Type&quot;: …</td></tr><tr><td>&quot;N53526&quot;</td><td>&quot;health&quot;</td><td>&quot;voices&quot;</td><td>&quot;I Was An NBA Wife. Here&#x27;s How …</td><td>&quot;I felt like I was a fraud, and…</td><td>&quot;https://assets.msn.com/labs/mi…</td><td>&quot;[]&quot;</td><td>&quot;[{&quot;Label&quot;: &quot;National Basketbal…</td></tr><tr><td>&quot;N38324&quot;</td><td>&quot;health&quot;</td><td>&quot;medical&quot;</td><td>&quot;How to Get Rid of Skin Tags, A…</td><td>&quot;They seem harmless, but there&#x27;…</td><td>&quot;https://assets.msn.com/labs/mi…</td><td>&quot;[{&quot;Label&quot;: &quot;Skin tag&quot;, &quot;Type&quot;:…</td><td>&quot;[{&quot;Label&quot;: &quot;Skin tag&quot;, &quot;Type&quot;:…</td></tr><tr><td>&hellip;</td><td>&hellip;</td><td>&hellip;</td><td>&hellip;</td><td>&hellip;</td><td>&hellip;</td><td>&hellip;</td><td>&hellip;</td></tr><tr><td>&quot;N63550&quot;</td><td>&quot;lifestyle&quot;</td><td>&quot;lifestyleroyals&quot;</td><td>&quot;Why Kate &amp; Meghan Were on Diff…</td><td>&quot;There&#x27;s no scandal here. It&#x27;s …</td><td>&quot;https://assets.msn.com/labs/mi…</td><td>&quot;[{&quot;Label&quot;: &quot;Meghan, Duchess of…</td><td>&quot;[]&quot;</td></tr><tr><td>&quot;N30345&quot;</td><td>&quot;entertainment&quot;</td><td>&quot;entertainment-celebrity&quot;</td><td>&quot;See the stars at the 2019 Baby…</td><td>&quot;Stars like Chrissy Teigen and …</td><td>&quot;https://assets.msn.com/labs/mi…</td><td>&quot;[]&quot;</td><td>&quot;[{&quot;Label&quot;: &quot;Kate Hudson&quot;, &quot;Typ…</td></tr><tr><td>&quot;N30135&quot;</td><td>&quot;news&quot;</td><td>&quot;newsgoodnews&quot;</td><td>&quot;Tennessee judge holds lawyer&#x27;s…</td><td>&quot;Tennessee Court of Appeals Jud…</td><td>&quot;https://assets.msn.com/labs/mi…</td><td>&quot;[{&quot;Label&quot;: &quot;Tennessee&quot;, &quot;Type&quot;…</td><td>&quot;[{&quot;Label&quot;: &quot;Tennessee Court of…</td></tr><tr><td>&quot;N44276&quot;</td><td>&quot;autos&quot;</td><td>&quot;autossports&quot;</td><td>&quot;Best Sports Car Deals for Octo…</td><td>null</td><td>&quot;https://assets.msn.com/labs/mi…</td><td>&quot;[{&quot;Label&quot;: &quot;Peugeot RCZ&quot;, &quot;Typ…</td><td>&quot;[]&quot;</td></tr><tr><td>&quot;N39563&quot;</td><td>&quot;sports&quot;</td><td>&quot;more_sports&quot;</td><td>&quot;Shall we dance: Sports stars s…</td><td>null</td><td>&quot;https://assets.msn.com/labs/mi…</td><td>&quot;[]&quot;</td><td>&quot;[]&quot;</td></tr></tbody></table></div>"
      ],
      "text/plain": [
       "shape: (42_318, 8)\n",
       "┌─────────┬────────────┬────────────┬────────────┬────────────┬────────────┬───────────┬───────────┐\n",
       "│ news_id ┆ category   ┆ subcategor ┆ title      ┆ abstract   ┆ url        ┆ title_ent ┆ abstract_ │\n",
       "│ ---     ┆ ---        ┆ y          ┆ ---        ┆ ---        ┆ ---        ┆ ities     ┆ entities  │\n",
       "│ str     ┆ str        ┆ ---        ┆ str        ┆ str        ┆ str        ┆ ---       ┆ ---       │\n",
       "│         ┆            ┆ str        ┆            ┆            ┆            ┆ str       ┆ str       │\n",
       "╞═════════╪════════════╪════════════╪════════════╪════════════╪════════════╪═══════════╪═══════════╡\n",
       "│ N55528  ┆ lifestyle  ┆ lifestyler ┆ The Brands ┆ Shop the   ┆ https://as ┆ [{\"Label\" ┆ []        │\n",
       "│         ┆            ┆ oyals      ┆ Queen      ┆ notebooks, ┆ sets.msn.c ┆ : \"Prince ┆           │\n",
       "│         ┆            ┆            ┆ Elizabeth, ┆ jackets,   ┆ om/labs/mi ┆ Philip,   ┆           │\n",
       "│         ┆            ┆            ┆ Pr…        ┆ a…         ┆ …          ┆ Duk…      ┆           │\n",
       "│ N18955  ┆ health     ┆ medical    ┆ Dispose of ┆ null       ┆ https://as ┆ [{\"Label\" ┆ []        │\n",
       "│         ┆            ┆            ┆ unwanted   ┆            ┆ sets.msn.c ┆ : \"Drug   ┆           │\n",
       "│         ┆            ┆            ┆ prescripti ┆            ┆ om/labs/mi ┆ Enforceme ┆           │\n",
       "│         ┆            ┆            ┆ …          ┆            ┆ …          ┆ nt A…     ┆           │\n",
       "│ N61837  ┆ news       ┆ newsworld  ┆ The Cost   ┆ Lt. Ivan   ┆ https://as ┆ []        ┆ [{\"Label\" │\n",
       "│         ┆            ┆            ┆ of Trump's ┆ Molchanets ┆ sets.msn.c ┆           ┆ : \"Ukrain │\n",
       "│         ┆            ┆            ┆ Aid        ┆ peeked     ┆ om/labs/mi ┆           ┆ e\",       │\n",
       "│         ┆            ┆            ┆ Freeze…    ┆ ove…       ┆ …          ┆           ┆ \"Type\": … │\n",
       "│ N53526  ┆ health     ┆ voices     ┆ I Was An   ┆ I felt     ┆ https://as ┆ []        ┆ [{\"Label\" │\n",
       "│         ┆            ┆            ┆ NBA Wife.  ┆ like I was ┆ sets.msn.c ┆           ┆ :         │\n",
       "│         ┆            ┆            ┆ Here's How ┆ a fraud,   ┆ om/labs/mi ┆           ┆ \"National │\n",
       "│         ┆            ┆            ┆ …          ┆ and…       ┆ …          ┆           ┆ Basketbal │\n",
       "│         ┆            ┆            ┆            ┆            ┆            ┆           ┆ …         │\n",
       "│ N38324  ┆ health     ┆ medical    ┆ How to Get ┆ They seem  ┆ https://as ┆ [{\"Label\" ┆ [{\"Label\" │\n",
       "│         ┆            ┆            ┆ Rid of     ┆ harmless,  ┆ sets.msn.c ┆ : \"Skin   ┆ : \"Skin   │\n",
       "│         ┆            ┆            ┆ Skin Tags, ┆ but        ┆ om/labs/mi ┆ tag\",     ┆ tag\",     │\n",
       "│         ┆            ┆            ┆ A…         ┆ there'…    ┆ …          ┆ \"Type\":…  ┆ \"Type\":…  │\n",
       "│ …       ┆ …          ┆ …          ┆ …          ┆ …          ┆ …          ┆ …         ┆ …         │\n",
       "│ N63550  ┆ lifestyle  ┆ lifestyler ┆ Why Kate & ┆ There's no ┆ https://as ┆ [{\"Label\" ┆ []        │\n",
       "│         ┆            ┆ oyals      ┆ Meghan     ┆ scandal    ┆ sets.msn.c ┆ :         ┆           │\n",
       "│         ┆            ┆            ┆ Were on    ┆ here. It's ┆ om/labs/mi ┆ \"Meghan,  ┆           │\n",
       "│         ┆            ┆            ┆ Diff…      ┆ …          ┆ …          ┆ Duchess   ┆           │\n",
       "│         ┆            ┆            ┆            ┆            ┆            ┆ of…       ┆           │\n",
       "│ N30345  ┆ entertainm ┆ entertainm ┆ See the    ┆ Stars like ┆ https://as ┆ []        ┆ [{\"Label\" │\n",
       "│         ┆ ent        ┆ ent-celebr ┆ stars at   ┆ Chrissy    ┆ sets.msn.c ┆           ┆ : \"Kate   │\n",
       "│         ┆            ┆ ity        ┆ the 2019   ┆ Teigen and ┆ om/labs/mi ┆           ┆ Hudson\",  │\n",
       "│         ┆            ┆            ┆ Baby…      ┆ …          ┆ …          ┆           ┆ \"Typ…     │\n",
       "│ N30135  ┆ news       ┆ newsgoodne ┆ Tennessee  ┆ Tennessee  ┆ https://as ┆ [{\"Label\" ┆ [{\"Label\" │\n",
       "│         ┆            ┆ ws         ┆ judge      ┆ Court of   ┆ sets.msn.c ┆ : \"Tennes ┆ : \"Tennes │\n",
       "│         ┆            ┆            ┆ holds      ┆ Appeals    ┆ om/labs/mi ┆ see\",     ┆ see Court │\n",
       "│         ┆            ┆            ┆ lawyer's…  ┆ Jud…       ┆ …          ┆ \"Type\"…   ┆ of…       │\n",
       "│ N44276  ┆ autos      ┆ autossport ┆ Best       ┆ null       ┆ https://as ┆ [{\"Label\" ┆ []        │\n",
       "│         ┆            ┆ s          ┆ Sports Car ┆            ┆ sets.msn.c ┆ :         ┆           │\n",
       "│         ┆            ┆            ┆ Deals for  ┆            ┆ om/labs/mi ┆ \"Peugeot  ┆           │\n",
       "│         ┆            ┆            ┆ Octo…      ┆            ┆ …          ┆ RCZ\",     ┆           │\n",
       "│         ┆            ┆            ┆            ┆            ┆            ┆ \"Typ…     ┆           │\n",
       "│ N39563  ┆ sports     ┆ more_sport ┆ Shall we   ┆ null       ┆ https://as ┆ []        ┆ []        │\n",
       "│         ┆            ┆ s          ┆ dance:     ┆            ┆ sets.msn.c ┆           ┆           │\n",
       "│         ┆            ┆            ┆ Sports     ┆            ┆ om/labs/mi ┆           ┆           │\n",
       "│         ┆            ┆            ┆ stars s…   ┆            ┆ …          ┆           ┆           │\n",
       "└─────────┴────────────┴────────────┴────────────┴────────────┴────────────┴───────────┴───────────┘"
      ]
     },
     "execution_count": 4,
     "metadata": {},
     "output_type": "execute_result"
    }
   ],
   "source": [
    "import polars as pl\n",
    "\n",
    "\n",
    "news_lf = pl.scan_csv(\"../data/MINDsmall_dev/news.tsv\",\n",
    "                       separator=\"\\t\",\n",
    "                       has_header=False,\n",
    "                       schema={\"news_id\" : pl.datatypes.String,\n",
    "                               \"category\" : pl.datatypes.String,\n",
    "                               \"subcategory\" : pl.datatypes.String,\n",
    "                               \"title\" : pl.datatypes.String,\n",
    "                               \"abstract\" : pl.datatypes.String,\n",
    "                               \"url\" : pl.datatypes.String,\n",
    "                               \"title_entities\" : pl.datatypes.String,\n",
    "                               \"abstract_entities\" : pl.datatypes.String},\n",
    "                        ignore_errors=True)\n",
    "\n",
    "news_lf.collect()"
   ]
  },
  {
   "cell_type": "markdown",
   "metadata": {},
   "source": [
    "Since some news articles have no abstract, let's fill those nulls with \"No abstract\"."
   ]
  },
  {
   "cell_type": "code",
   "execution_count": 5,
   "metadata": {},
   "outputs": [],
   "source": [
    "news_lf = news_lf.with_columns(\n",
    "    pl.col(\"abstract\").fill_null(\"No abstract\")\n",
    ")"
   ]
  },
  {
   "cell_type": "markdown",
   "metadata": {},
   "source": [
    "Now let's explore the behaviors training dataset."
   ]
  },
  {
   "cell_type": "code",
   "execution_count": 5,
   "metadata": {},
   "outputs": [
    {
     "data": {
      "text/html": [
       "<div><style>\n",
       ".dataframe > thead > tr,\n",
       ".dataframe > tbody > tr {\n",
       "  text-align: right;\n",
       "  white-space: pre-wrap;\n",
       "}\n",
       "</style>\n",
       "<small>shape: (73_152, 5)</small><table border=\"1\" class=\"dataframe\"><thead><tr><th>impression_id</th><th>user_id</th><th>time</th><th>history</th><th>impressions</th></tr><tr><td>i64</td><td>str</td><td>str</td><td>str</td><td>str</td></tr></thead><tbody><tr><td>1</td><td>&quot;U80234&quot;</td><td>&quot;11/15/2019 12:37:50 PM&quot;</td><td>&quot;N55189 N46039 N51741 N53234 N1…</td><td>&quot;N28682-0 N48740-0 N31958-1 N34…</td></tr><tr><td>2</td><td>&quot;U60458&quot;</td><td>&quot;11/15/2019 7:11:50 AM&quot;</td><td>&quot;N58715 N32109 N51180 N33438 N5…</td><td>&quot;N20036-0 N23513-1 N32536-0 N46…</td></tr><tr><td>3</td><td>&quot;U44190&quot;</td><td>&quot;11/15/2019 9:55:12 AM&quot;</td><td>&quot;N56253 N1150 N55189 N16233 N61…</td><td>&quot;N36779-0 N62365-0 N58098-0 N54…</td></tr><tr><td>4</td><td>&quot;U87380&quot;</td><td>&quot;11/15/2019 3:12:46 PM&quot;</td><td>&quot;N63554 N49153 N28678 N23232 N4…</td><td>&quot;N6950-0 N60215-0 N6074-0 N1193…</td></tr><tr><td>5</td><td>&quot;U9444&quot;</td><td>&quot;11/15/2019 8:25:46 AM&quot;</td><td>&quot;N51692 N18285 N26015 N22679 N5…</td><td>&quot;N5940-1 N23513-0 N49285-0 N233…</td></tr><tr><td>&hellip;</td><td>&hellip;</td><td>&hellip;</td><td>&hellip;</td><td>&hellip;</td></tr><tr><td>73148</td><td>&quot;U77536&quot;</td><td>&quot;11/15/2019 8:40:16 PM&quot;</td><td>&quot;N28691 N8845 N58434 N37120 N22…</td><td>&quot;N496-0 N35159-0 N59856-0 N1327…</td></tr><tr><td>73149</td><td>&quot;U56193&quot;</td><td>&quot;11/15/2019 1:11:26 PM&quot;</td><td>&quot;N4705 N58782 N53531 N46492 N26…</td><td>&quot;N49285-0 N31958-0 N55237-0 N42…</td></tr><tr><td>73150</td><td>&quot;U16799&quot;</td><td>&quot;11/15/2019 3:37:06 PM&quot;</td><td>&quot;N40826 N42078 N15670 N15295 N6…</td><td>&quot;N7043-0 N512-0 N60215-1 N45057…</td></tr><tr><td>73151</td><td>&quot;U8786&quot;</td><td>&quot;11/15/2019 8:29:26 AM&quot;</td><td>&quot;N3046 N356 N20483 N46107 N4459…</td><td>&quot;N23692-0 N19990-0 N20187-0 N59…</td></tr><tr><td>73152</td><td>&quot;U68182&quot;</td><td>&quot;11/15/2019 11:54:34 AM&quot;</td><td>&quot;N20297 N53568 N4690 N60608 N43…</td><td>&quot;N29862-0 N5472-0 N21679-1 N640…</td></tr></tbody></table></div>"
      ],
      "text/plain": [
       "shape: (73_152, 5)\n",
       "┌───────────────┬─────────┬────────────────────────┬──────────────────────┬───────────────────┐\n",
       "│ impression_id ┆ user_id ┆ time                   ┆ history              ┆ impressions       │\n",
       "│ ---           ┆ ---     ┆ ---                    ┆ ---                  ┆ ---               │\n",
       "│ i64           ┆ str     ┆ str                    ┆ str                  ┆ str               │\n",
       "╞═══════════════╪═════════╪════════════════════════╪══════════════════════╪═══════════════════╡\n",
       "│ 1             ┆ U80234  ┆ 11/15/2019 12:37:50 PM ┆ N55189 N46039 N51741 ┆ N28682-0 N48740-0 │\n",
       "│               ┆         ┆                        ┆ N53234 N1…           ┆ N31958-1 N34…     │\n",
       "│ 2             ┆ U60458  ┆ 11/15/2019 7:11:50 AM  ┆ N58715 N32109 N51180 ┆ N20036-0 N23513-1 │\n",
       "│               ┆         ┆                        ┆ N33438 N5…           ┆ N32536-0 N46…     │\n",
       "│ 3             ┆ U44190  ┆ 11/15/2019 9:55:12 AM  ┆ N56253 N1150 N55189  ┆ N36779-0 N62365-0 │\n",
       "│               ┆         ┆                        ┆ N16233 N61…          ┆ N58098-0 N54…     │\n",
       "│ 4             ┆ U87380  ┆ 11/15/2019 3:12:46 PM  ┆ N63554 N49153 N28678 ┆ N6950-0 N60215-0  │\n",
       "│               ┆         ┆                        ┆ N23232 N4…           ┆ N6074-0 N1193…    │\n",
       "│ 5             ┆ U9444   ┆ 11/15/2019 8:25:46 AM  ┆ N51692 N18285 N26015 ┆ N5940-1 N23513-0  │\n",
       "│               ┆         ┆                        ┆ N22679 N5…           ┆ N49285-0 N233…    │\n",
       "│ …             ┆ …       ┆ …                      ┆ …                    ┆ …                 │\n",
       "│ 73148         ┆ U77536  ┆ 11/15/2019 8:40:16 PM  ┆ N28691 N8845 N58434  ┆ N496-0 N35159-0   │\n",
       "│               ┆         ┆                        ┆ N37120 N22…          ┆ N59856-0 N1327…   │\n",
       "│ 73149         ┆ U56193  ┆ 11/15/2019 1:11:26 PM  ┆ N4705 N58782 N53531  ┆ N49285-0 N31958-0 │\n",
       "│               ┆         ┆                        ┆ N46492 N26…          ┆ N55237-0 N42…     │\n",
       "│ 73150         ┆ U16799  ┆ 11/15/2019 3:37:06 PM  ┆ N40826 N42078 N15670 ┆ N7043-0 N512-0    │\n",
       "│               ┆         ┆                        ┆ N15295 N6…           ┆ N60215-1 N45057…  │\n",
       "│ 73151         ┆ U8786   ┆ 11/15/2019 8:29:26 AM  ┆ N3046 N356 N20483    ┆ N23692-0 N19990-0 │\n",
       "│               ┆         ┆                        ┆ N46107 N4459…        ┆ N20187-0 N59…     │\n",
       "│ 73152         ┆ U68182  ┆ 11/15/2019 11:54:34 AM ┆ N20297 N53568 N4690  ┆ N29862-0 N5472-0  │\n",
       "│               ┆         ┆                        ┆ N60608 N43…          ┆ N21679-1 N640…    │\n",
       "└───────────────┴─────────┴────────────────────────┴──────────────────────┴───────────────────┘"
      ]
     },
     "execution_count": 5,
     "metadata": {},
     "output_type": "execute_result"
    }
   ],
   "source": [
    "behaviors_lf = pl.scan_csv(\"../data/MINDsmall_dev/behaviors.tsv\",\n",
    "                            separator='\\t',\n",
    "                            has_header=False,\n",
    "                            schema={\n",
    "                                \"impression_id\" : pl.datatypes.Int64,\n",
    "                                \"user_id\" : pl.datatypes.String,\n",
    "                                \"time\" : pl.datatypes.String,\n",
    "                                \"history\" : pl.datatypes.String,\n",
    "                                \"impressions\" : pl.datatypes.String\n",
    "                            },\n",
    "                            ignore_errors=True)\n",
    "\n",
    "behaviors_lf.collect()"
   ]
  },
  {
   "cell_type": "markdown",
   "metadata": {},
   "source": [
    "For now, let's ignore the fact that the third column is being stored in the dataframe as a string. If we need to later, we'll convert all of those dates into a proper Datetime data type."
   ]
  },
  {
   "cell_type": "markdown",
   "metadata": {},
   "source": [
    "Let's get all the unique news categories so we can use them for the news recommendation function."
   ]
  },
  {
   "cell_type": "code",
   "execution_count": 6,
   "metadata": {},
   "outputs": [
    {
     "data": {
      "text/plain": [
       "['video',\n",
       " 'health',\n",
       " 'finance',\n",
       " 'lifestyle',\n",
       " 'movies',\n",
       " 'sports',\n",
       " 'news',\n",
       " 'kids',\n",
       " 'entertainment',\n",
       " 'travel',\n",
       " 'games',\n",
       " 'foodanddrink',\n",
       " 'weather',\n",
       " 'autos',\n",
       " 'tv',\n",
       " 'music']"
      ]
     },
     "execution_count": 6,
     "metadata": {},
     "output_type": "execute_result"
    }
   ],
   "source": [
    "categories = news_lf.select(pl.col(\"category\").unique()).collect()\n",
    "categories.to_series().to_list()"
   ]
  },
  {
   "cell_type": "markdown",
   "metadata": {},
   "source": [
    "Now, let's make a funcion to get a given number of random news articles by category.\n",
    "\n",
    "First we will define the function's JSON object for OpenAI."
   ]
  },
  {
   "cell_type": "code",
   "execution_count": 7,
   "metadata": {},
   "outputs": [],
   "source": [
    "\n",
    "NEWS_RECS_BY_CATEGORY = {\n",
    "    \"type\": \"function\",\n",
    "    \"function\": {\n",
    "        \"name\": \"get_random_news_by_category\",\n",
    "        \"description\": \"Returns the provided number of news article headlines \\\n",
    "from a given category. This function requires at least one category to work.\",\n",
    "        \"parameters\": {\n",
    "            \"type\": \"object\",\n",
    "            \"properties\": {\n",
    "                \"number\": { \"type\": \"number\"},\n",
    "                \"category\": {\n",
    "                    \"type\": \"string\",\n",
    "                    \"enum\": [\n",
    "                        'sports',\n",
    "                        'travel',\n",
    "                        'health',\n",
    "                        'news',\n",
    "                        'movies',\n",
    "                        'tv',\n",
    "                        'entertainment',\n",
    "                        'video',\n",
    "                        'lifestyle',\n",
    "                        'finance',\n",
    "                        'kids',\n",
    "                        'weather',\n",
    "                        'northamerica',\n",
    "                        'autos',\n",
    "                        'foodanddrink',\n",
    "                        'music'\n",
    "                    ]\n",
    "                }\n",
    "            },\n",
    "            \"required\": [\"number\", \"category\"],\n",
    "        },\n",
    "    },\n",
    "}\n"
   ]
  },
  {
   "cell_type": "markdown",
   "metadata": {},
   "source": [
    "Now let's create the actual function, noting that OpenAI requires the return value of functions to be in a single string, so we will concatenate all news articles' titles into a single string."
   ]
  },
  {
   "cell_type": "code",
   "execution_count": 8,
   "metadata": {},
   "outputs": [
    {
     "name": "stdout",
     "output_type": "stream",
     "text": [
      "Title: \"33 Most Common Reasons Why Relationships Fail\". Title: \"Friend defends mom who left children alone in deadly fire: 'Not everybody is a perfect parent'\". Title: \"Newborns dressed up as Mister Rogers on National Kindness Day\"\n"
     ]
    }
   ],
   "source": [
    "import polars as pl\n",
    "\n",
    "\n",
    "def get_random_news_by_category(news_lf: pl.LazyFrame,\n",
    "                                number: int,\n",
    "                                category: str) -> str:\n",
    "    \"\"\" Retrieves random news articles by the given category, and returns\n",
    "        their title.\n",
    "\n",
    "    Args:\n",
    "        news_lf (LazyFrame): the Polars lazy DataFrame with the news articles.\n",
    "        number (int): the number of news articles by category to return.\n",
    "        category (str): the category of news articles to return.\n",
    "\n",
    "    Returns:\n",
    "        str: the title of each news article.\n",
    "    \"\"\"\n",
    "\n",
    "    news_articles = []\n",
    "\n",
    "    news_by_cat = news_lf.filter(\n",
    "        pl.col(\"category\") == category\n",
    "    ).select(\n",
    "        pl.col(\"title\")\n",
    "    ).collect().sample(n=number).rows()\n",
    "    for article in news_by_cat:\n",
    "        news_articles.append(\"Title: \\\"\" + article[0] + \"\\\"\")\n",
    "\n",
    "    return \". \".join(news_articles)\n",
    "\n",
    "\n",
    "print(get_random_news_by_category(news_lf, 3, \"lifestyle\"))"
   ]
  },
  {
   "cell_type": "markdown",
   "metadata": {},
   "source": [
    "Now let's define a function that will retrieve the article's abstract with a provided title."
   ]
  },
  {
   "cell_type": "code",
   "execution_count": 9,
   "metadata": {},
   "outputs": [],
   "source": [
    "\n",
    "NEWS_ARTICLE_ABSTRACT_BY_TITLE = {\n",
    "    \"type\": \"function\",\n",
    "    \"function\": {\n",
    "        \"name\": \"get_article_abstract_by_title\",\n",
    "        \"description\": \"Retrieves the news article's abstract with the provide\\\n",
    "d title. This function requires at least one title to function correctly.\",\n",
    "        \"parameters\": {\n",
    "            \"type\": \"object\",\n",
    "            \"properties\": {\n",
    "                \"title\": { \"type\": \"string\"},\n",
    "            },\n",
    "            \"required\": [\"title\"],\n",
    "        },\n",
    "    },\n",
    "}"
   ]
  },
  {
   "cell_type": "markdown",
   "metadata": {},
   "source": [
    "Now let's create the actual function."
   ]
  },
  {
   "cell_type": "code",
   "execution_count": 17,
   "metadata": {},
   "outputs": [
    {
     "data": {
      "text/plain": [
       "'In an effort to combat some of the negative mental impacts caused by social media, the company announced it is removing all of its filters that give a plastic surgery-like effect.'"
      ]
     },
     "execution_count": 17,
     "metadata": {},
     "output_type": "execute_result"
    }
   ],
   "source": [
    "def get_article_abstract_by_title(title: str) -> str:\n",
    "    \"\"\" Retrieves a news article's abstract by the given title.\n",
    "\n",
    "    Args:\n",
    "        title (str): the article's title to return.\n",
    "\n",
    "    Returns:\n",
    "        str: the news article's abstract.\n",
    "    \"\"\"\n",
    "\n",
    "    abstract = news_lf.filter(\n",
    "        pl.col(\"title\") == title\n",
    "    ).select(\n",
    "        pl.col(\"abstract\")\n",
    "    ).collect()\n",
    "    if len(abstract.to_series().to_list()) > 0:\n",
    "        return abstract.to_series().to_list()[0]\n",
    "    else:\n",
    "        return \"Abstract not found.\"\n",
    "\n",
    "get_article_abstract_by_title(\"Instagram Filters with Plastic Surgery-Inspired Effects Could Soon Disappear\")"
   ]
  }
 ],
 "metadata": {
  "kernelspec": {
   "display_name": ".venv",
   "language": "python",
   "name": "python3"
  },
  "language_info": {
   "codemirror_mode": {
    "name": "ipython",
    "version": 3
   },
   "file_extension": ".py",
   "mimetype": "text/x-python",
   "name": "python",
   "nbconvert_exporter": "python",
   "pygments_lexer": "ipython3",
   "version": "3.11.4"
  }
 },
 "nbformat": 4,
 "nbformat_minor": 2
}
